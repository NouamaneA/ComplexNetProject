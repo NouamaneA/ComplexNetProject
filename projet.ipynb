{
  "nbformat": 4,
  "nbformat_minor": 0,
  "metadata": {
    "colab": {
      "name": "projet.ipynb",
      "provenance": [],
      "collapsed_sections": []
    },
    "kernelspec": {
      "name": "python3",
      "display_name": "Python 3"
    }
  },
  "cells": [
    {
      "cell_type": "markdown",
      "metadata": {
        "id": "J3Tp2zuTzeVC"
      },
      "source": [
        "<h1 align='center'>Projet Réseaux Complexes NET4103</h1>\n",
        "<div align='center'>Nouamane ARHACHOUI</div>\n",
        "\n",
        "---\n",
        "\n",
        "\n"
      ]
    },
    {
      "cell_type": "code",
      "metadata": {
        "colab": {
          "base_uri": "https://localhost:8080/"
        },
        "id": "cAwDm4mFGeka",
        "outputId": "4d2e3318-dff6-4c4f-ee93-9fbea0ed7bd3"
      },
      "source": [
        "from google.colab import drive\r\n",
        "drive.mount(\"/content/drive\")"
      ],
      "execution_count": 2,
      "outputs": [
        {
          "output_type": "stream",
          "text": [
            "Drive already mounted at /content/drive; to attempt to forcibly remount, call drive.mount(\"/content/drive\", force_remount=True).\n"
          ],
          "name": "stdout"
        }
      ]
    },
    {
      "cell_type": "code",
      "metadata": {
        "id": "-pRj4TFY2nEb"
      },
      "source": [
        "import matplotlib.pyplot as plt\n",
        "import numpy as np\n",
        "import networkx as nx\n",
        "import collections"
      ],
      "execution_count": 9,
      "outputs": []
    },
    {
      "cell_type": "code",
      "metadata": {
        "id": "gM1T5jA007Eb"
      },
      "source": [
        "G_caltech = nx.read_graphml('/content/drive/MyDrive/Cours/complexnet/projet/fb100/Caltech36.graphml')"
      ],
      "execution_count": 4,
      "outputs": []
    },
    {
      "cell_type": "code",
      "metadata": {
        "id": "Ec3wmhDc5G0u"
      },
      "source": [
        "G_mit = nx.read_graphml('/content/drive/MyDrive/Cours/complexnet/projet/fb100/MIT8.graphml')"
      ],
      "execution_count": 5,
      "outputs": []
    },
    {
      "cell_type": "code",
      "metadata": {
        "id": "rvLw8bJh5bWo"
      },
      "source": [
        "G_hopkins = nx.read_graphml('/content/drive/MyDrive/Cours/complexnet/projet/fb100/Johns Hopkins55.graphml')"
      ],
      "execution_count": 6,
      "outputs": []
    },
    {
      "cell_type": "code",
      "metadata": {
        "colab": {
          "base_uri": "https://localhost:8080/",
          "height": 353
        },
        "id": "__T6gw6KjNSv",
        "outputId": "0c0b17c6-35c9-4979-ce79-81be98b4f32d"
      },
      "source": [
        "nx.draw(G_caltech, node_size=150)\n",
        "plt.title('Caltech Graph')"
      ],
      "execution_count": 111,
      "outputs": [
        {
          "output_type": "execute_result",
          "data": {
            "text/plain": [
              "Text(0.5, 1.0, 'Caltech Graph')"
            ]
          },
          "metadata": {
            "tags": []
          },
          "execution_count": 111
        },
        {
          "output_type": "display_data",
          "data": {
            "image/png": "[encoded data removed]",
            "text/plain": [
              "<Figure size 432x288 with 1 Axes>"
            ]
          },
          "metadata": {
            "tags": []
          }
        }
      ]
    },
    {
      "cell_type": "code",
      "metadata": {
        "colab": {
          "base_uri": "https://localhost:8080/",
          "height": 353
        },
        "id": "LkFHvDKKkyxe",
        "outputId": "c4bcc156-f0eb-4614-aa06-a7f3411051e7"
      },
      "source": [
        "nx.draw(G_mit, node_size=150)\n",
        "plt.title('MIT Graph')"
      ],
      "execution_count": 112,
      "outputs": [
        {
          "output_type": "execute_result",
          "data": {
            "text/plain": [
              "Text(0.5, 1.0, 'MIT Graph')"
            ]
          },
          "metadata": {
            "tags": []
          },
          "execution_count": 112
        },
        {
          "output_type": "display_data",
          "data": {
            "image/png": "[encoded data removed]",
            "text/plain": [
              "<Figure size 432x288 with 1 Axes>"
            ]
          },
          "metadata": {
            "tags": []
          }
        }
      ]
    },
    {
      "cell_type": "code",
      "metadata": {
        "colab": {
          "base_uri": "https://localhost:8080/",
          "height": 353
        },
        "id": "UwQIKw2Ik7Fv",
        "outputId": "6ffe31cb-2018-4e22-c87d-ca19d0040337"
      },
      "source": [
        "nx.draw(G_hopkins, node_size=150)\n",
        "plt.title('Johns Hopkins')"
      ],
      "execution_count": 113,
      "outputs": [
        {
          "output_type": "execute_result",
          "data": {
            "text/plain": [
              "Text(0.5, 1.0, 'Johns Hopkins')"
            ]
          },
          "metadata": {
            "tags": []
          },
          "execution_count": 113
        },
        {
          "output_type": "display_data",
          "data": {
            "image/png": "[encoded data removed]",
            "text/plain": [
              "<Figure size 432x288 with 1 Axes>"
            ]
          },
          "metadata": {
            "tags": []
          }
        }
      ]
    },
    {
      "cell_type": "code",
      "metadata": {
        "id": "MhtdCXBKHYFt"
      },
      "source": [
        "def plot_degree_dist(G):\n",
        "  degrees = [G.degree(n) for n in G.nodes()]\n",
        "  plt.hist(degrees)\n",
        "  plt.show()"
      ],
      "execution_count": 14,
      "outputs": []
    },
    {
      "cell_type": "code",
      "metadata": {
        "colab": {
          "base_uri": "https://localhost:8080/",
          "height": 281
        },
        "id": "-dK5opQUHgjd",
        "outputId": "8e23bddb-47e5-4af2-b22e-03aed1a89c22"
      },
      "source": [
        "plt.title('Caltech graph degree distribution')\n",
        "plot_degree_dist(G_caltech)"
      ],
      "execution_count": 17,
      "outputs": [
        {
          "output_type": "display_data",
          "data": {
            "image/png": "[encoded data removed]",
            "text/plain": [
              "<Figure size 432x288 with 1 Axes>"
            ]
          },
          "metadata": {
            "tags": [],
            "needs_background": "light"
          }
        }
      ]
    },
    {
      "cell_type": "code",
      "metadata": {
        "colab": {
          "base_uri": "https://localhost:8080/",
          "height": 281
        },
        "id": "MyMg8X0bJztn",
        "outputId": "911a036d-4ed1-4fbd-8516-5143902a5999"
      },
      "source": [
        "plt.title('MIT graph degree distribution')\n",
        "plot_degree_dist(G_mit)"
      ],
      "execution_count": 18,
      "outputs": [
        {
          "output_type": "display_data",
          "data": {
            "image/png": "[encoded data removed]",
            "text/plain": [
              "<Figure size 432x288 with 1 Axes>"
            ]
          },
          "metadata": {
            "tags": [],
            "needs_background": "light"
          }
        }
      ]
    },
    {
      "cell_type": "code",
      "metadata": {
        "colab": {
          "base_uri": "https://localhost:8080/",
          "height": 281
        },
        "id": "6ofL2W0fJ2lu",
        "outputId": "e5ffbb19-b034-4cac-d6d7-764ef4bdabe2"
      },
      "source": [
        "plt.title('Johns Hopkins graph degree distribution')\n",
        "plot_degree_dist(G_hopkins)"
      ],
      "execution_count": 19,
      "outputs": [
        {
          "output_type": "display_data",
          "data": {
            "image/png": "[encoded data removed]",
            "text/plain": [
              "<Figure size 432x288 with 1 Axes>"
            ]
          },
          "metadata": {
            "tags": [],
            "needs_background": "light"
          }
        }
      ]
    },
    {
      "cell_type": "code",
      "metadata": {
        "colab": {
          "base_uri": "https://localhost:8080/"
        },
        "id": "p7wb17jB6lb6",
        "outputId": "e043f53c-4288-4a35-8511-d01024441437"
      },
      "source": [
        "gcc_caltech = nx.transitivity(G_caltech)\n",
        "gcc_mit = nx.transitivity(G_mit)\n",
        "gcc_hopkins = nx.transitivity(G_hopkins)\n",
        "\n",
        "print('GCC Caltech =', gcc_caltech)\n",
        "print('GCC MIT =', gcc_mit)\n",
        "print('GCC Johns Hopkins =', gcc_hopkins)"
      ],
      "execution_count": 65,
      "outputs": [
        {
          "output_type": "stream",
          "text": [
            "GCC Caltech = 0.2912826901150874\n",
            "GCC MIT = 0.18028845093502427\n",
            "GCC Johns Hopkins = 0.19316123901594015\n"
          ],
          "name": "stdout"
        }
      ]
    },
    {
      "cell_type": "code",
      "metadata": {
        "colab": {
          "base_uri": "https://localhost:8080/"
        },
        "id": "JiNtDOZr9ZeT",
        "outputId": "c7d6a5fa-1d33-4ea8-ea4e-ba846e555500"
      },
      "source": [
        "density_caltech = nx.density(G_caltech)\n",
        "density_mit = nx.density(G_mit)\n",
        "density_hopkins = nx.density(G_hopkins)\n",
        "\n",
        "print('Density Caltech =', density_caltech)\n",
        "print('Density MIT =', density_mit)\n",
        "print('Density Johns Hopkins =', density_hopkins)"
      ],
      "execution_count": 10,
      "outputs": [
        {
          "output_type": "stream",
          "text": [
            "Density Caltech = 0.05640442132639792\n",
            "Density MIT = 0.012118119495041378\n",
            "Density Johns Hopkins = 0.013910200162372396\n"
          ],
          "name": "stdout"
        }
      ]
    },
    {
      "cell_type": "code",
      "metadata": {
        "id": "QAHxA5WXZiBv"
      },
      "source": [
        "gccs = [gcc_caltech, gcc_mit, gcc_hopkins]\n",
        "densities = [density_caltech, density_mit, density_hopkins]"
      ],
      "execution_count": null,
      "outputs": []
    },
    {
      "cell_type": "code",
      "metadata": {
        "id": "NrwzmO8V04Q-"
      },
      "source": [
        "cc_caltech = list(nx.connected_components(G_caltech))\n",
        "G_lcc_caltech = nx.subgraph(G_caltech, cc_caltech[0])\n",
        "degree_caltech = dict(G_lcc_caltech.degree())\n",
        "clustering_caltech = dict(nx.clustering(G_lcc_caltech))\n",
        "\n",
        "cc_mit = list(nx.connected_components(G_mit))\n",
        "G_lcc_mit = nx.subgraph(G_mit, cc_mit[0])\n",
        "degree_mit = dict(G_lcc_mit.degree())\n",
        "clustering_mit = dict(nx.clustering(G_lcc_mit))\n",
        "\n",
        "cc_hopkins = list(nx.connected_components(G_hopkins))\n",
        "G_lcc_hopkins = nx.subgraph(G_hopkins, cc_hopkins[0])\n",
        "degree_hopkins = dict(G_lcc_hopkins.degree())\n",
        "clustering_hopkins = dict(nx.clustering(G_lcc_hopkins))"
      ],
      "execution_count": 21,
      "outputs": []
    },
    {
      "cell_type": "code",
      "metadata": {
        "colab": {
          "base_uri": "https://localhost:8080/"
        },
        "id": "kJ34ok5r5ITd",
        "outputId": "1e8d66d4-f0f1-4d0c-e296-b841b3209e80"
      },
      "source": [
        "np.mean(list(clustering_caltech.values()))"
      ],
      "execution_count": 31,
      "outputs": [
        {
          "output_type": "execute_result",
          "data": {
            "text/plain": [
              "0.4091173048334612"
            ]
          },
          "metadata": {
            "tags": []
          },
          "execution_count": 31
        }
      ]
    },
    {
      "cell_type": "code",
      "metadata": {
        "colab": {
          "base_uri": "https://localhost:8080/"
        },
        "id": "llv3jNSF5pcq",
        "outputId": "cb23eb6c-98a1-4d9e-b1d0-aa2fc2ea7524"
      },
      "source": [
        "nx.average_clustering(G_lcc_caltech)"
      ],
      "execution_count": 32,
      "outputs": [
        {
          "output_type": "execute_result",
          "data": {
            "text/plain": [
              "0.4091173048334614"
            ]
          },
          "metadata": {
            "tags": []
          },
          "execution_count": 32
        }
      ]
    },
    {
      "cell_type": "code",
      "metadata": {
        "colab": {
          "base_uri": "https://localhost:8080/"
        },
        "id": "nQVQNczX5tpB",
        "outputId": "457c1bf5-2f9d-455d-ef6d-3bda02fd53ce"
      },
      "source": [
        "nx.transitivity(G_lcc_caltech)"
      ],
      "execution_count": 67,
      "outputs": [
        {
          "output_type": "execute_result",
          "data": {
            "text/plain": [
              "0.2912809635141533"
            ]
          },
          "metadata": {
            "tags": []
          },
          "execution_count": 67
        }
      ]
    },
    {
      "cell_type": "code",
      "metadata": {
        "colab": {
          "base_uri": "https://localhost:8080/"
        },
        "id": "QOOXKSPnObRw",
        "outputId": "d286612d-8f32-415b-d569-fe7ec84964cb"
      },
      "source": [
        "np.mean(list(clustering_mit.values()))"
      ],
      "execution_count": 22,
      "outputs": [
        {
          "output_type": "execute_result",
          "data": {
            "text/plain": [
              "0.27235999658838644"
            ]
          },
          "metadata": {
            "tags": []
          },
          "execution_count": 22
        }
      ]
    },
    {
      "cell_type": "code",
      "metadata": {
        "colab": {
          "base_uri": "https://localhost:8080/"
        },
        "id": "Bnrtx5fAOgWZ",
        "outputId": "69a68771-5073-472c-c94e-3abb98780879"
      },
      "source": [
        "nx.average_clustering(G_lcc_mit)"
      ],
      "execution_count": 23,
      "outputs": [
        {
          "output_type": "execute_result",
          "data": {
            "text/plain": [
              "0.272359996588386"
            ]
          },
          "metadata": {
            "tags": []
          },
          "execution_count": 23
        }
      ]
    },
    {
      "cell_type": "code",
      "metadata": {
        "colab": {
          "base_uri": "https://localhost:8080/"
        },
        "id": "SU8-2V2KOiyQ",
        "outputId": "3025684c-f6e3-402d-df91-831a741c0410"
      },
      "source": [
        "nx.transitivity(G_lcc_mit)"
      ],
      "execution_count": 24,
      "outputs": [
        {
          "output_type": "execute_result",
          "data": {
            "text/plain": [
              "0.1802884023054581"
            ]
          },
          "metadata": {
            "tags": []
          },
          "execution_count": 24
        }
      ]
    },
    {
      "cell_type": "code",
      "metadata": {
        "colab": {
          "base_uri": "https://localhost:8080/"
        },
        "id": "jqdW3ajNOkzQ",
        "outputId": "a466667d-1734-4de6-f08b-dc9b647bb5d3"
      },
      "source": [
        "np.mean(list(clustering_hopkins.values()))"
      ],
      "execution_count": 25,
      "outputs": [
        {
          "output_type": "execute_result",
          "data": {
            "text/plain": [
              "0.26900836180589566"
            ]
          },
          "metadata": {
            "tags": []
          },
          "execution_count": 25
        }
      ]
    },
    {
      "cell_type": "code",
      "metadata": {
        "colab": {
          "base_uri": "https://localhost:8080/"
        },
        "id": "6eq8EjfPOm4w",
        "outputId": "4c61ae24-a793-4891-e92d-582036fe87fd"
      },
      "source": [
        "nx.average_clustering(G_lcc_hopkins)"
      ],
      "execution_count": 26,
      "outputs": [
        {
          "output_type": "execute_result",
          "data": {
            "text/plain": [
              "0.2690083618058958"
            ]
          },
          "metadata": {
            "tags": []
          },
          "execution_count": 26
        }
      ]
    },
    {
      "cell_type": "code",
      "metadata": {
        "colab": {
          "base_uri": "https://localhost:8080/"
        },
        "id": "c9Z38tmVOowq",
        "outputId": "7da23810-eb47-480c-ee11-68990cc44029"
      },
      "source": [
        "nx.transitivity(G_lcc_hopkins)"
      ],
      "execution_count": 27,
      "outputs": [
        {
          "output_type": "execute_result",
          "data": {
            "text/plain": [
              "0.19316115952994883"
            ]
          },
          "metadata": {
            "tags": []
          },
          "execution_count": 27
        }
      ]
    },
    {
      "cell_type": "markdown",
      "metadata": {
        "id": "RwGVqxEh8FAd"
      },
      "source": [
        "### Caltech:\n",
        "*   Mean local clustering coefficient = 0.409\n",
        "*   Global clustering coefficient = 0.291\n",
        "*   Density = 0.056\n",
        "\n",
        "### MIT:\n",
        "*   Mean local clustering coefficient = 0.272\n",
        "*   Global clustering coefficient = 0.180\n",
        "*   Density = 0.012\n",
        "\n",
        "### Johns Hopkins:\n",
        "*   Mean local clustering coefficient = 0.269\n",
        "*   Global clustering coefficient = 0.193\n",
        "*   Density = 0.014\n"
      ]
    },
    {
      "cell_type": "code",
      "metadata": {
        "colab": {
          "base_uri": "https://localhost:8080/",
          "height": 295
        },
        "id": "O1ej04P17yHd",
        "outputId": "cc097cb6-888c-4a6a-bae3-52bf69d1c6c7"
      },
      "source": [
        "plt.scatter(list(degree_caltech.values()), list(clustering_caltech.values()), s= 1, color= 'red')\n",
        "plt.title('Caltech Graph')\n",
        "plt.xlabel('Degrees')\n",
        "plt.ylabel('Clustering Coefficients')\n",
        "plt.show()"
      ],
      "execution_count": 95,
      "outputs": [
        {
          "output_type": "display_data",
          "data": {
            "image/png": "[encoded data removed]",
            "text/plain": [
              "<Figure size 432x288 with 1 Axes>"
            ]
          },
          "metadata": {
            "tags": [],
            "needs_background": "light"
          }
        }
      ]
    },
    {
      "cell_type": "code",
      "metadata": {
        "colab": {
          "base_uri": "https://localhost:8080/",
          "height": 281
        },
        "id": "unx6m_iW-MH4",
        "outputId": "c3a410f4-3a2a-485a-8c9a-cf117f892dc4"
      },
      "source": [
        "plt.scatter(list(degree_mit.values()), list(clustering_mit.values()), s= 1, color= 'orange')\n",
        "plt.title('MIT Graph')\n",
        "plt.show()"
      ],
      "execution_count": 57,
      "outputs": [
        {
          "output_type": "display_data",
          "data": {
            "image/png": "[encoded data removed]",
            "text/plain": [
              "<Figure size 432x288 with 1 Axes>"
            ]
          },
          "metadata": {
            "tags": [],
            "needs_background": "light"
          }
        }
      ]
    },
    {
      "cell_type": "code",
      "metadata": {
        "colab": {
          "base_uri": "https://localhost:8080/",
          "height": 281
        },
        "id": "Yw8HSz0e-Q_D",
        "outputId": "6ec238b6-8d7a-421d-b7c4-a79e20d891ce"
      },
      "source": [
        "plt.scatter(list(degree_hopkins.values()), list(clustering_hopkins.values()), s= 1, color= 'green')\n",
        "plt.title('Johns Hopkins Graph')\n",
        "plt.show()"
      ],
      "execution_count": 94,
      "outputs": [
        {
          "output_type": "display_data",
          "data": {
            "image/png": "[encoded data removed]",
            "text/plain": [
              "<Figure size 432x288 with 1 Axes>"
            ]
          },
          "metadata": {
            "tags": [],
            "needs_background": "light"
          }
        }
      ]
    },
    {
      "cell_type": "code",
      "metadata": {
        "id": "sppIc6DTtO5c"
      },
      "source": [
        "import glob\n",
        "list_of_files = glob.glob(\"/content/drive/MyDrive/Cours/complexnet/projet/fb100/*\")\n",
        "\n",
        "l_size=[]\n",
        "l_associativity=[]\n",
        "for f in list_of_files:\n",
        "  g = nx.read_graphml(f)\n",
        "  \n",
        "  l_size.append(g.size())\n",
        "  l_associativity.append(nx.attribute_assortativity_coefficient(g, \"student_fac\"))"
      ],
      "execution_count": 140,
      "outputs": []
    },
    {
      "cell_type": "code",
      "metadata": {
        "colab": {
          "base_uri": "https://localhost:8080/",
          "height": 634
        },
        "id": "D7k8qzGZxicd",
        "outputId": "3d61c312-bacd-43df-e36c-54087157a2b8"
      },
      "source": [
        "import seaborn\n",
        "print(\"Mean Assortativity =\",sum(l_associativity)/len(l_associativity))\n",
        "plt.scatter(l_size,l_associativity,s=1,color=(0,0,1))\n",
        "plt.title(' Student/Faculty Status')\n",
        "plt.show()\n",
        "seaborn.distplot(l_associativity)"
      ],
      "execution_count": 152,
      "outputs": [
        {
          "output_type": "stream",
          "text": [
            "Mean Assortativity = 0.3227381585912151\n"
          ],
          "name": "stdout"
        },
        {
          "output_type": "display_data",
          "data": {
            "image/png": "[encoded data removed]",
            "text/plain": [
              "<Figure size 432x288 with 1 Axes>"
            ]
          },
          "metadata": {
            "tags": [],
            "needs_background": "light"
          }
        },
        {
          "output_type": "stream",
          "text": [
            "/usr/local/lib/python3.6/dist-packages/seaborn/distributions.py:2557: FutureWarning: `distplot` is a deprecated function and will be removed in a future version. Please adapt your code to use either `displot` (a figure-level function with similar flexibility) or `histplot` (an axes-level function for histograms).\n",
            "  warnings.warn(msg, FutureWarning)\n"
          ],
          "name": "stderr"
        },
        {
          "output_type": "execute_result",
          "data": {
            "text/plain": [
              "<matplotlib.axes._subplots.AxesSubplot at 0x7f57c121ac18>"
            ]
          },
          "metadata": {
            "tags": []
          },
          "execution_count": 152
        },
        {
          "output_type": "display_data",
          "data": {
            "image/png": "[encoded data removed]",
            "text/plain": [
              "<Figure size 432x288 with 1 Axes>"
            ]
          },
          "metadata": {
            "tags": [],
            "needs_background": "light"
          }
        }
      ]
    },
    {
      "cell_type": "code",
      "metadata": {
        "colab": {
          "base_uri": "https://localhost:8080/"
        },
        "id": "ilAZfUVd_aA3",
        "outputId": "91ec4b26-d488-46b9-dfa1-ea2680c613d1"
      },
      "source": [
        "#l_associativity_major = []\n",
        "#graphs = []\n",
        "#for i in range(len(list_of_files)):\n",
        "#  graphs.append(nx.read_graphml(list_of_files[i]))\n",
        "#  l_associativity_major.append(nx.attribute_assortativity_coefficient(graphs[i], \"major\"))\n",
        "#print(\"Mean Assortativity =\",sum(l_associativity_major)/len(l_associativity_major))\n",
        "#plt.scatter(l_size,l_associativity_major,s=1,color=(0,0,1))\n",
        "#plt. title('Major')\n",
        "#plt.show()\n",
        "#seaborn.distplot(l_associativity_major)"
      ],
      "execution_count": null,
      "outputs": [
        {
          "output_type": "stream",
          "text": [
            "/usr/local/lib/python3.6/dist-packages/networkx/algorithms/assortativity/correlation.py:263: RuntimeWarning: invalid value encountered in double_scalars\n",
            "  r = (t - s) / (1 - s)\n"
          ],
          "name": "stderr"
        }
      ]
    },
    {
      "cell_type": "code",
      "metadata": {
        "id": "7BDwI-9oBFkl"
      },
      "source": [
        ""
      ],
      "execution_count": null,
      "outputs": []
    }
  ]
}